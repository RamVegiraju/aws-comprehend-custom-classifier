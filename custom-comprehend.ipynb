{
 "cells": [
  {
   "cell_type": "markdown",
   "id": "858412d2",
   "metadata": {},
   "source": [
    "## Comprehend Custom Classification Example\n",
    "### Spam Detection Example\n",
    "### [Spam Text MessagesDataset](https://www.kaggle.com/datasets/team-ai/spam-text-message-classification)"
   ]
  },
  {
   "cell_type": "code",
   "execution_count": null,
   "id": "4038c7ce",
   "metadata": {},
   "outputs": [],
   "source": [
    "import pandas as pd\n",
    "import numpy as np\n",
    "\n",
    "df = pd.read_csv(\"spam.csv\")\n",
    "df.head()"
   ]
  },
  {
   "cell_type": "code",
   "execution_count": null,
   "id": "6387216e",
   "metadata": {},
   "outputs": [],
   "source": [
    "print(len(df))"
   ]
  },
  {
   "cell_type": "markdown",
   "id": "5fb3299e",
   "metadata": {},
   "source": [
    "### Boto3 Clients"
   ]
  },
  {
   "cell_type": "code",
   "execution_count": null,
   "id": "ece2732a",
   "metadata": {},
   "outputs": [],
   "source": [
    "import boto3\n",
    "s3 = boto3.resource('s3')\n",
    "comprehend = boto3.client('comprehend')"
   ]
  },
  {
   "cell_type": "markdown",
   "id": "70985bae",
   "metadata": {},
   "source": [
    "### Create Bucket For Dataset"
   ]
  },
  {
   "cell_type": "code",
   "execution_count": null,
   "id": "0aa555e1",
   "metadata": {},
   "outputs": [],
   "source": [
    "s3.create_bucket(Bucket = \"custom-comprehend-example-mars\") #replace this with your unique bucket name"
   ]
  },
  {
   "cell_type": "code",
   "execution_count": null,
   "id": "a798c056",
   "metadata": {},
   "outputs": [],
   "source": [
    "s3.meta.client.upload_file('spam.csv', 'custom-comprehend-example-mars', 'spam.csv') #replace second param with your unique bucket name"
   ]
  },
  {
   "cell_type": "code",
   "execution_count": null,
   "id": "521a9d45",
   "metadata": {},
   "outputs": [],
   "source": [
    "document_classifier_name = 'SpamClassifierOne'"
   ]
  },
  {
   "cell_type": "code",
   "execution_count": null,
   "id": "d0a0b7ef",
   "metadata": {},
   "outputs": [],
   "source": [
    "# Create a document classifier\n",
    "# Create an IAM role for DataAccess for Comprehend and copy that arn in DataAccessRoleArn\n",
    "create_response = comprehend.create_document_classifier(\n",
    "    InputDataConfig={\n",
    "        'S3Uri': 's3://custom-comprehend-example/spam.csv'\n",
    "    },\n",
    "    DataAccessRoleArn='Enter IAM role arn here',\n",
    "    DocumentClassifierName=document_classifier_name,\n",
    "    LanguageCode='en'\n",
    ")\n",
    "print(\"Create response: %s\\n\", create_response)"
   ]
  },
  {
   "cell_type": "code",
   "execution_count": null,
   "id": "c354261d",
   "metadata": {},
   "outputs": [],
   "source": [
    "# Check the status of the classifier\n",
    "describe_response = comprehend.describe_document_classifier(\n",
    "    DocumentClassifierArn=create_response['DocumentClassifierArn'])\n",
    "print(\"Describe response: %s\\n\", describe_response)"
   ]
  },
  {
   "cell_type": "code",
   "execution_count": null,
   "id": "aa254532",
   "metadata": {},
   "outputs": [],
   "source": [
    "describe_response['DocumentClassifierProperties']['Status']"
   ]
  },
  {
   "cell_type": "markdown",
   "id": "3b8c3fc3",
   "metadata": {},
   "source": [
    "### Track Model Training"
   ]
  },
  {
   "cell_type": "code",
   "execution_count": null,
   "id": "fffe24fe",
   "metadata": {},
   "outputs": [],
   "source": [
    "import time\n",
    "describe_response = comprehend.describe_document_classifier(\n",
    "    DocumentClassifierArn=create_response['DocumentClassifierArn'])\n",
    "while describe_response['DocumentClassifierProperties']['Status'] == 'TRAINING':\n",
    "    describe_response = comprehend.describe_document_classifier(DocumentClassifierArn=create_response['DocumentClassifierArn'])\n",
    "    print(describe_response['DocumentClassifierProperties']['Status'])\n",
    "    time.sleep(60)\n",
    "describe_response"
   ]
  },
  {
   "cell_type": "markdown",
   "id": "5ef77543",
   "metadata": {},
   "source": [
    "### Grab Document Classifier ARN"
   ]
  },
  {
   "cell_type": "code",
   "execution_count": null,
   "id": "2c8eda7e",
   "metadata": {},
   "outputs": [],
   "source": [
    "DocumentClassifierArn=create_response['DocumentClassifierArn']\n",
    "DocumentClassifierArn"
   ]
  },
  {
   "cell_type": "markdown",
   "id": "b2daee84",
   "metadata": {},
   "source": [
    "### Create Real-Time Endpoint"
   ]
  },
  {
   "cell_type": "code",
   "execution_count": null,
   "id": "7e8abbdc",
   "metadata": {},
   "outputs": [],
   "source": [
    "realtime_endpoint_name = document_classifier_name + '-comprehend-ep'\n",
    "\n",
    "response = comprehend.create_endpoint(\n",
    "    EndpointName=realtime_endpoint_name,\n",
    "    ModelArn='Enter Model ARN here',\n",
    "    DesiredInferenceUnits=10)\n",
    "endpoint_arn = response['EndpointArn']"
   ]
  },
  {
   "cell_type": "code",
   "execution_count": null,
   "id": "9e5a5445",
   "metadata": {},
   "outputs": [],
   "source": [
    "response = comprehend.describe_endpoint(EndpointArn=endpoint_arn)\n",
    "response"
   ]
  },
  {
   "cell_type": "code",
   "execution_count": null,
   "id": "ddecf7f9",
   "metadata": {},
   "outputs": [],
   "source": [
    "response['EndpointProperties']['Status']"
   ]
  },
  {
   "cell_type": "code",
   "execution_count": null,
   "id": "e825f9d1",
   "metadata": {},
   "outputs": [],
   "source": [
    "import time\n",
    "describe_response = comprehend.describe_endpoint(EndpointArn=endpoint_arn)\n",
    "while describe_response['EndpointProperties']['Status'] == 'CREATING':\n",
    "    describe_response = comprehend.describe_endpoint(EndpointArn=endpoint_arn)\n",
    "    print(describe_response['EndpointProperties']['Status'])\n",
    "    time.sleep(30)\n",
    "describe_response"
   ]
  },
  {
   "cell_type": "markdown",
   "id": "cd502aeb",
   "metadata": {},
   "source": [
    "### Invocation"
   ]
  },
  {
   "cell_type": "code",
   "execution_count": null,
   "id": "da4c2dee",
   "metadata": {},
   "outputs": [],
   "source": [
    "df['Message'][0] #copy to next cell for text"
   ]
  },
  {
   "cell_type": "code",
   "execution_count": null,
   "id": "fc7e27fb",
   "metadata": {},
   "outputs": [],
   "source": [
    "response = comprehend.classify_document(\n",
    "        Text='Go until jurong point, crazy.. Available only in bugis n great world la e buffet... Cine there got amore wat...',\n",
    "        EndpointArn='Enter role arn here'\n",
    "    )\n",
    "response"
   ]
  },
  {
   "cell_type": "markdown",
   "id": "559fb7ed",
   "metadata": {},
   "source": [
    "## Clean Up"
   ]
  },
  {
   "cell_type": "code",
   "execution_count": null,
   "id": "c0245b44",
   "metadata": {},
   "outputs": [],
   "source": [
    "comprehend.delete_endpoint(EndpointArn='Enter role arn here')"
   ]
  },
  {
   "cell_type": "code",
   "execution_count": null,
   "id": "d4715475",
   "metadata": {},
   "outputs": [],
   "source": []
  }
 ],
 "metadata": {
  "kernelspec": {
   "display_name": "conda_python3",
   "language": "python",
   "name": "conda_python3"
  },
  "language_info": {
   "codemirror_mode": {
    "name": "ipython",
    "version": 3
   },
   "file_extension": ".py",
   "mimetype": "text/x-python",
   "name": "python",
   "nbconvert_exporter": "python",
   "pygments_lexer": "ipython3",
   "version": "3.6.13"
  }
 },
 "nbformat": 4,
 "nbformat_minor": 5
}
